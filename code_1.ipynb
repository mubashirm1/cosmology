{
 "cells": [
  {
   "cell_type": "code",
   "execution_count": 117,
   "id": "2ad53cbd",
   "metadata": {},
   "outputs": [],
   "source": [
    "import csv\n",
    "import matplotlib.pyplot as plt\n",
    "import numpy as np\n",
    "from scipy.optimize import curve_fit\n",
    "from scipy.constants import h, c, k\n",
    "\n",
    "from fileinput import filename\n",
    "def load_data(filename):\n",
    "     mylist = []\n",
    "     with open(filename ,\"r\") as numbers :\n",
    "        numbers_data = csv.reader(numbers, delimiter =' ' )\n",
    "        next(numbers_data)\n",
    "        for row in numbers_data:\n",
    "            mylist.append(row)\n",
    "        return mylist\n",
    "new_list = load_data('firas_data.csv')\n",
    "column1_s =[]\n",
    "column2_s =[]\n",
    "column4_s =[]\n",
    "for row in new_list:\n",
    "    data = list(filter(None, row))\n",
    "    column1_s.append(data[0])\n",
    "    column2_s.append(data[1])\n",
    "    column4_s.append(data[3])\n",
    "column1 = [eval(i) for i in column1_s]\n",
    "column2 = [eval(i) for i in column2_s]\n",
    "column4 = [eval(i) for i in column4_s]\n",
    "###############################################################################################\n",
    "\n",
    "\n",
    "\n",
    "\n",
    "\n"
   ]
  },
  {
   "cell_type": "code",
   "execution_count": null,
   "id": "a6340d20",
   "metadata": {},
   "outputs": [],
   "source": [
    "c = 100 * c\n",
    "\n",
    "nu, cmb = np.loadtxt('data/cmb-data.txt', unpack=True)\n",
    "\n",
    "def B(nu, T):\n",
    "    return 2 * h * nu**3 * c**2 / (np.exp(h*c*nu/k/T)-1) * 1.e7\n",
    "\n",
    "sigma = 2.e-6\n",
    "\n",
    "T0 = 1\n",
    "popt, pcov = curve_fit(B, nu, cmb, p0=(T0,), sigma=sigma, absolute_sigma=True)\n",
    "Tfit = popt[0]\n",
    "Bfit = B(nu, Tfit)"
   ]
  }
 ],
 "metadata": {
  "kernelspec": {
   "display_name": "Python 3 (ipykernel)",
   "language": "python",
   "name": "python3"
  },
  "language_info": {
   "codemirror_mode": {
    "name": "ipython",
    "version": 3
   },
   "file_extension": ".py",
   "mimetype": "text/x-python",
   "name": "python",
   "nbconvert_exporter": "python",
   "pygments_lexer": "ipython3",
   "version": "3.9.13"
  }
 },
 "nbformat": 4,
 "nbformat_minor": 5
}
